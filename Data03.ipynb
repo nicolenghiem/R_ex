{
 "cells": [
  {
   "cell_type": "markdown",
   "metadata": “\n”,
   "source": [
    "**Attribute Information:**\n",
    "\n",
    "data 3 : Chúng ta quan tâm đến tỷ lệ tai nạn với bộ dữ liệu gồm 39 quan trắc được thực hiện trên vài đoạn đường cao tốc ở tiểu bang Minnesota vùng Trung Tây của Hoa Kỳ, gồm các biến sau : <br>\n",
    "    – X1 : chiều dài đoạn đường (dặm) ; <br>\n",
    "    – X2 : lượng giao thông trung bình hàng ngày (nghìn xe) ;<br>\n",
    "    – X3 : tỷ lệ % xe tải trên tổng số ;<br>\n",
    "    – X4 :tốc đệ giới hạn cho phép (dặm/giờ) ;<br>\n",
    "    – X5 : chiều rộng làn đường (bước chân) ;<br>\n",
    "    – X6 : chiều rộng làn đường khẩn cấp (bước chân) ;<br>\n",
    "    – X7 : số làn đường thay đổi tự do trên đoạn đường cao tốc ;<br>\n",
    "    – X8 : số làn đường thay đổi (báo hiệu) trên đoạn đường cao tốc ;<br>\n",
    "    – X9 : số cửa vào đoạn đường cao tốc ;<br>\n",
    "    – X10 : tổng số làn đường (trên hai chiều của đường cao tốc) ;<br>\n",
    "    – X11 : 1 nếu là tuyến đường liên thông xa lộ và cao tốc , 0 nếu ngược lại ;<br>\n",
    "    – X12 : 1 nếu là tuyến đường lớn của cao tốc , 0 nếu ngược lại ;<br>\n",
    "    – X13 : 1 nếu là tuyến đường cao tốc chính, 0 nếu ngược lại.<br>"
   ]
  },
  {
   "cell_type": "code",
   "execution_count": 1,
   "metadata": “\n”,
   "outputs": [],
   "source": [
    "import numpy as np\n",
    "import pandas as pd\n",
    "import seaborn as sns\n",
    "import matplotlib.pyplot as plt\n",
    "import scipy.stats as stats\n",
    "\n",
    "import statsmodels.api as sm\n",
    "from statsmodels.formula.api import ols\n",
    "from sklearn import preprocessing\n",
    "%matplotlib inline"
   ]
  },
  {
   "cell_type": "code",
   "execution_count": 15,
   "metadata": “\n”,
   "outputs": [
    {
     "data": {
      "text/html": [
       "<div>\n",
       "<style scoped>\n",
       "    .dataframe tbody tr th:only-of-type {\n",
       "        vertical-align: middle;\n",
       "    }\n",
       "\n",
       "    .dataframe tbody tr th {\n",
       "        vertical-align: top;\n",
       "    }\n",
       "\n",
       "    .dataframe thead th {\n",
       "        text-align: right;\n",
       "    }\n",
       "</style>\n",
       "<table border=\"1\" class=\"dataframe\">\n",
       "  <thead>\n",
       "    <tr style=\"text-align: right;\">\n",
       "      <th></th>\n",
       "      <th>duong_dai</th>\n",
       "      <th>luong_xe</th>\n",
       "      <th>xe_tai</th>\n",
       "      <th>max_speed</th>\n",
       "      <th>width</th>\n",
       "      <th>width_sos</th>\n",
       "      <th>lane1</th>\n",
       "      <th>lane2</th>\n",
       "      <th>entry_route</th>\n",
       "      <th>lane_sum</th>\n",
       "      <th>X11</th>\n",
       "      <th>X12</th>\n",
       "      <th>X13</th>\n",
       "      <th>y</th>\n",
       "    </tr>\n",
       "  </thead>\n",
       "  <tbody>\n",
       "    <tr>\n",
       "      <th>0</th>\n",
       "      <td>4.99</td>\n",
       "      <td>69</td>\n",
       "      <td>8</td>\n",
       "      <td>55</td>\n",
       "      <td>12</td>\n",
       "      <td>10</td>\n",
       "      <td>1.20</td>\n",
       "      <td>0.0</td>\n",
       "      <td>4.6</td>\n",
       "      <td>8</td>\n",
       "      <td>1</td>\n",
       "      <td>0</td>\n",
       "      <td>0</td>\n",
       "      <td>4.58</td>\n",
       "    </tr>\n",
       "    <tr>\n",
       "      <th>1</th>\n",
       "      <td>16.11</td>\n",
       "      <td>73</td>\n",
       "      <td>8</td>\n",
       "      <td>60</td>\n",
       "      <td>12</td>\n",
       "      <td>10</td>\n",
       "      <td>1.43</td>\n",
       "      <td>0.0</td>\n",
       "      <td>4.4</td>\n",
       "      <td>4</td>\n",
       "      <td>1</td>\n",
       "      <td>0</td>\n",
       "      <td>0</td>\n",
       "      <td>2.86</td>\n",
       "    </tr>\n",
       "    <tr>\n",
       "      <th>2</th>\n",
       "      <td>9.75</td>\n",
       "      <td>49</td>\n",
       "      <td>10</td>\n",
       "      <td>60</td>\n",
       "      <td>12</td>\n",
       "      <td>10</td>\n",
       "      <td>1.54</td>\n",
       "      <td>0.0</td>\n",
       "      <td>4.7</td>\n",
       "      <td>4</td>\n",
       "      <td>1</td>\n",
       "      <td>0</td>\n",
       "      <td>0</td>\n",
       "      <td>3.02</td>\n",
       "    </tr>\n",
       "    <tr>\n",
       "      <th>3</th>\n",
       "      <td>1.65</td>\n",
       "      <td>61</td>\n",
       "      <td>13</td>\n",
       "      <td>65</td>\n",
       "      <td>12</td>\n",
       "      <td>10</td>\n",
       "      <td>0.94</td>\n",
       "      <td>0.0</td>\n",
       "      <td>3.8</td>\n",
       "      <td>6</td>\n",
       "      <td>1</td>\n",
       "      <td>0</td>\n",
       "      <td>0</td>\n",
       "      <td>2.29</td>\n",
       "    </tr>\n",
       "    <tr>\n",
       "      <th>4</th>\n",
       "      <td>20.01</td>\n",
       "      <td>28</td>\n",
       "      <td>12</td>\n",
       "      <td>70</td>\n",
       "      <td>12</td>\n",
       "      <td>10</td>\n",
       "      <td>0.65</td>\n",
       "      <td>0.0</td>\n",
       "      <td>2.2</td>\n",
       "      <td>4</td>\n",
       "      <td>1</td>\n",
       "      <td>0</td>\n",
       "      <td>0</td>\n",
       "      <td>1.61</td>\n",
       "    </tr>\n",
       "  </tbody>\n",
       "</table>\n",
       "</div>"
      ],
      "text/plain": [
       "   duong_dai  luong_xe  xe_tai  max_speed  width  width_sos  lane1  lane2  \\\n",
       "0       4.99        69       8         55     12         10   1.20    0.0   \n",
       "1      16.11        73       8         60     12         10   1.43    0.0   \n",
       "2       9.75        49      10         60     12         10   1.54    0.0   \n",
       "3       1.65        61      13         65     12         10   0.94    0.0   \n",
       "4      20.01        28      12         70     12         10   0.65    0.0   \n",
       "\n",
       "   entry_route  lane_sum  X11  X12  X13     y  \n",
       "0          4.6         8    1    0    0  4.58  \n",
       "1          4.4         4    1    0    0  2.86  \n",
       "2          4.7         4    1    0    0  3.02  \n",
       "3          3.8         6    1    0    0  2.29  \n",
       "4          2.2         4    1    0    0  1.61  "
      ]
     },
     "execution_count": 15,
     "metadata": “\n”,
     "output_type": "execute_result"
    }
   ],
   "source": [
    "df = pd.read_csv('./data/data3.CSV')\n",
    "df.columns = ['duong_dai', 'luong_xe', 'xe_tai', 'max_speed', 'width', \n",
    "              'width_sos', 'lane1', 'lane2', 'entry_route', 'lane_sum', 'X11', 'X12', 'X13', \"y\"]\n",
    "df.head()"
   ]
  },
  {
   "cell_type": "code",
   "execution_count": 4,
   "metadata": “\n”,
   "outputs": [
    {
     "data": {
      "text/plain": [
       "(39, 14)"
      ]
     },
     "execution_count": 4,
     "metadata": “\n”,
     "output_type": "execute_result"
    }
   ],
   "source": [
    "df.shape"
   ]
  },
  {
   "cell_type": "code",
   "execution_count": 16,
   "metadata": “\n”,
   "outputs": [
    {
     "name": "stdout",
     "output_type": "stream",
     "text": [
      "<class 'pandas.core.frame.DataFrame'>\n",
      "RangeIndex: 39 entries, 0 to 38\n",
      "Data columns (total 14 columns):\n",
      " #   Column       Non-Null Count  Dtype  \n",
      "---  ------       --------------  -----  \n",
      " 0   duong_dai    39 non-null     float64\n",
      " 1   luong_xe     39 non-null     int64  \n",
      " 2   xe_tai       39 non-null     int64  \n",
      " 3   max_speed    39 non-null     int64  \n",
      " 4   width        39 non-null     int64  \n",
      " 5   width_sos    39 non-null     int64  \n",
      " 6   lane1        39 non-null     float64\n",
      " 7   lane2        39 non-null     float64\n",
      " 8   entry_route  39 non-null     float64\n",
      " 9   lane_sum     39 non-null     int64  \n",
      " 10  X11          39 non-null     int64  \n",
      " 11  X12          39 non-null     int64  \n",
      " 12  X13          39 non-null     int64  \n",
      " 13  y            39 non-null     float64\n",
      "dtypes: float64(5), int64(9)\n",
      "memory usage: 4.4 KB\n"
     ]
    }
   ],
   "source": [
    "df.info()"
   ]
  },
  {
   "cell_type": "code",
   "execution_count": 17,
   "metadata": “\n”,
   "outputs": [
    {
     "data": {
      "text/html": [
       "<div>\n",
       "<style scoped>\n",
       "    .dataframe tbody tr th:only-of-type {\n",
       "        vertical-align: middle;\n",
       "    }\n",
       "\n",
       "    .dataframe tbody tr th {\n",
       "        vertical-align: top;\n",
       "    }\n",
       "\n",
       "    .dataframe thead th {\n",
       "        text-align: right;\n",
       "    }\n",
       "</style>\n",
       "<table border=\"1\" class=\"dataframe\">\n",
       "  <thead>\n",
       "    <tr style=\"text-align: right;\">\n",
       "      <th></th>\n",
       "      <th>duong_dai</th>\n",
       "      <th>luong_xe</th>\n",
       "      <th>xe_tai</th>\n",
       "      <th>max_speed</th>\n",
       "      <th>width</th>\n",
       "      <th>width_sos</th>\n",
       "      <th>lane1</th>\n",
       "      <th>lane2</th>\n",
       "      <th>entry_route</th>\n",
       "      <th>lane_sum</th>\n",
       "      <th>X11</th>\n",
       "      <th>X12</th>\n",
       "      <th>X13</th>\n",
       "      <th>y</th>\n",
       "    </tr>\n",
       "  </thead>\n",
       "  <tbody>\n",
       "    <tr>\n",
       "      <th>count</th>\n",
       "      <td>39.000000</td>\n",
       "      <td>39.000000</td>\n",
       "      <td>39.000000</td>\n",
       "      <td>39.000000</td>\n",
       "      <td>39.000000</td>\n",
       "      <td>39.000000</td>\n",
       "      <td>39.000000</td>\n",
       "      <td>39.000000</td>\n",
       "      <td>39.000000</td>\n",
       "      <td>39.000000</td>\n",
       "      <td>39.000000</td>\n",
       "      <td>39.000000</td>\n",
       "      <td>39.000000</td>\n",
       "      <td>39.000000</td>\n",
       "    </tr>\n",
       "    <tr>\n",
       "      <th>mean</th>\n",
       "      <td>12.653333</td>\n",
       "      <td>19.615385</td>\n",
       "      <td>9.333333</td>\n",
       "      <td>55.000000</td>\n",
       "      <td>11.948718</td>\n",
       "      <td>6.871795</td>\n",
       "      <td>0.295128</td>\n",
       "      <td>0.400513</td>\n",
       "      <td>12.158974</td>\n",
       "      <td>3.128205</td>\n",
       "      <td>0.128205</td>\n",
       "      <td>0.487179</td>\n",
       "      <td>0.333333</td>\n",
       "      <td>3.933333</td>\n",
       "    </tr>\n",
       "    <tr>\n",
       "      <th>std</th>\n",
       "      <td>7.812968</td>\n",
       "      <td>18.611846</td>\n",
       "      <td>2.354540</td>\n",
       "      <td>5.848977</td>\n",
       "      <td>0.455881</td>\n",
       "      <td>3.036441</td>\n",
       "      <td>0.412035</td>\n",
       "      <td>0.633391</td>\n",
       "      <td>9.318338</td>\n",
       "      <td>1.360717</td>\n",
       "      <td>0.338688</td>\n",
       "      <td>0.506370</td>\n",
       "      <td>0.477567</td>\n",
       "      <td>1.986044</td>\n",
       "    </tr>\n",
       "    <tr>\n",
       "      <th>min</th>\n",
       "      <td>1.650000</td>\n",
       "      <td>1.000000</td>\n",
       "      <td>6.000000</td>\n",
       "      <td>40.000000</td>\n",
       "      <td>10.000000</td>\n",
       "      <td>1.000000</td>\n",
       "      <td>0.000000</td>\n",
       "      <td>0.000000</td>\n",
       "      <td>2.200000</td>\n",
       "      <td>2.000000</td>\n",
       "      <td>0.000000</td>\n",
       "      <td>0.000000</td>\n",
       "      <td>0.000000</td>\n",
       "      <td>1.610000</td>\n",
       "    </tr>\n",
       "    <tr>\n",
       "      <th>25%</th>\n",
       "      <td>7.380000</td>\n",
       "      <td>5.000000</td>\n",
       "      <td>8.000000</td>\n",
       "      <td>50.000000</td>\n",
       "      <td>12.000000</td>\n",
       "      <td>4.000000</td>\n",
       "      <td>0.000000</td>\n",
       "      <td>0.000000</td>\n",
       "      <td>6.950000</td>\n",
       "      <td>2.000000</td>\n",
       "      <td>0.000000</td>\n",
       "      <td>0.000000</td>\n",
       "      <td>0.000000</td>\n",
       "      <td>2.630000</td>\n",
       "    </tr>\n",
       "    <tr>\n",
       "      <th>50%</th>\n",
       "      <td>11.390000</td>\n",
       "      <td>13.000000</td>\n",
       "      <td>9.000000</td>\n",
       "      <td>55.000000</td>\n",
       "      <td>12.000000</td>\n",
       "      <td>8.000000</td>\n",
       "      <td>0.130000</td>\n",
       "      <td>0.090000</td>\n",
       "      <td>10.300000</td>\n",
       "      <td>2.000000</td>\n",
       "      <td>0.000000</td>\n",
       "      <td>0.000000</td>\n",
       "      <td>0.000000</td>\n",
       "      <td>3.050000</td>\n",
       "    </tr>\n",
       "    <tr>\n",
       "      <th>75%</th>\n",
       "      <td>17.800000</td>\n",
       "      <td>24.000000</td>\n",
       "      <td>11.000000</td>\n",
       "      <td>60.000000</td>\n",
       "      <td>12.000000</td>\n",
       "      <td>10.000000</td>\n",
       "      <td>0.360000</td>\n",
       "      <td>0.580000</td>\n",
       "      <td>14.600000</td>\n",
       "      <td>4.000000</td>\n",
       "      <td>0.000000</td>\n",
       "      <td>1.000000</td>\n",
       "      <td>1.000000</td>\n",
       "      <td>4.595000</td>\n",
       "    </tr>\n",
       "    <tr>\n",
       "      <th>max</th>\n",
       "      <td>40.090000</td>\n",
       "      <td>73.000000</td>\n",
       "      <td>15.000000</td>\n",
       "      <td>70.000000</td>\n",
       "      <td>13.000000</td>\n",
       "      <td>10.000000</td>\n",
       "      <td>1.540000</td>\n",
       "      <td>2.510000</td>\n",
       "      <td>53.000000</td>\n",
       "      <td>8.000000</td>\n",
       "      <td>1.000000</td>\n",
       "      <td>1.000000</td>\n",
       "      <td>1.000000</td>\n",
       "      <td>9.230000</td>\n",
       "    </tr>\n",
       "  </tbody>\n",
       "</table>\n",
       "</div>"
      ],
      "text/plain": [
       "       duong_dai   luong_xe     xe_tai  max_speed      width  width_sos  \\\n",
       "count  39.000000  39.000000  39.000000  39.000000  39.000000  39.000000   \n",
       "mean   12.653333  19.615385   9.333333  55.000000  11.948718   6.871795   \n",
       "std     7.812968  18.611846   2.354540   5.848977   0.455881   3.036441   \n",
       "min     1.650000   1.000000   6.000000  40.000000  10.000000   1.000000   \n",
       "25%     7.380000   5.000000   8.000000  50.000000  12.000000   4.000000   \n",
       "50%    11.390000  13.000000   9.000000  55.000000  12.000000   8.000000   \n",
       "75%    17.800000  24.000000  11.000000  60.000000  12.000000  10.000000   \n",
       "max    40.090000  73.000000  15.000000  70.000000  13.000000  10.000000   \n",
       "\n",
       "           lane1      lane2  entry_route   lane_sum        X11        X12  \\\n",
       "count  39.000000  39.000000    39.000000  39.000000  39.000000  39.000000   \n",
       "mean    0.295128   0.400513    12.158974   3.128205   0.128205   0.487179   \n",
       "std     0.412035   0.633391     9.318338   1.360717   0.338688   0.506370   \n",
       "min     0.000000   0.000000     2.200000   2.000000   0.000000   0.000000   \n",
       "25%     0.000000   0.000000     6.950000   2.000000   0.000000   0.000000   \n",
       "50%     0.130000   0.090000    10.300000   2.000000   0.000000   0.000000   \n",
       "75%     0.360000   0.580000    14.600000   4.000000   0.000000   1.000000   \n",
       "max     1.540000   2.510000    53.000000   8.000000   1.000000   1.000000   \n",
       "\n",
       "             X13          y  \n",
       "count  39.000000  39.000000  \n",
       "mean    0.333333   3.933333  \n",
       "std     0.477567   1.986044  \n",
       "min     0.000000   1.610000  \n",
       "25%     0.000000   2.630000  \n",
       "50%     0.000000   3.050000  \n",
       "75%     1.000000   4.595000  \n",
       "max     1.000000   9.230000  "
      ]
     },
     "execution_count": 17,
     "metadata": “\n”,
     "output_type": "execute_result"
    }
   ],
   "source": [
    "df.describe()"
   ]
  },
  {
   "cell_type": "markdown",
   "metadata": “\n”,
   "source": [
    "## 1. Xác định các thuộc tính\n",
    "**a. Input:** <br>\n",
    "**b. Output:** <br>\n",
    "**c. Data type:** <br>\n",
    "* Numeric<br>\n",
    "* String<br>\n"
   ]
  },
  {
   "cell_type": "code",
   "execution_count": 18,
   "metadata": “\n”,
   "outputs": [
    {
     "data": {
      "text/plain": [
       "'duong_dai, luong_xe, xe_tai, max_speed, width, width_sos, lane1, lane2, entry_route, lane_sum, X11, X12, X13, y'"
      ]
     },
     "execution_count": 18,
     "metadata": “\n”,
     "output_type": "execute_result"
    }
   ],
   "source": [
    "# Quanlitative data: dữ liệu kiểu số\n",
    "numbers = [f for f in df.columns if df.dtypes[f] != 'object'] \n",
    "list_nums = ', '.join(numbers)\n",
    "list_nums"
   ]
  },
  {
   "cell_type": "code",
   "execution_count": 27,
   "metadata": “\n”,
   "outputs": [
    {
     "data": {
      "text/plain": [
       "'duong_dai, luong_xe, xe_tai, max_speed, width_sos, lane1, lane2, entry_route, y'"
      ]
     },
     "execution_count": 27,
     "metadata": “\n”,
     "output_type": "execute_result"
    }
   ],
   "source": [
    "numbers = df.loc[:,['duong_dai', 'luong_xe', 'xe_tai', 'max_speed', 'width_sos', 'lane1', 'lane2', 'entry_route','y']]\n",
    "list_nums = ', '.join(numbers)\n",
    "list_nums"
   ]
  },
  {
   "cell_type": "code",
   "execution_count": 19,
   "metadata": “\n”,
   "outputs": [
    {
     "data": {
      "text/plain": [
       "''"
      ]
     },
     "execution_count": 19,
     "metadata": “\n”,
     "output_type": "execute_result"
    }
   ],
   "source": [
    "# Qualitative data: dữ liệu kiểu chuỗi\n",
    "objects = [f for f in df.columns if df.dtypes[f] == 'object'] \n",
    "list_obj = ', '.join(objects)\n",
    "list_obj"
   ]
  },
  {
   "cell_type": "code",
   "execution_count": 25,
   "metadata": “\n”,
   "outputs": [
    {
     "data": {
      "text/plain": [
       "'X11, X12, X13, width, lane_sum'"
      ]
     },
     "execution_count": 25,
     "metadata": “\n”,
     "output_type": "execute_result"
    }
   ],
   "source": [
    "objects = df.loc[:,['X11', 'X12', 'X13', 'width', 'lane_sum']]\n",
    "list_obj = ', '.join(objects)\n",
    "list_obj"
   ]
  },
  {
   "cell_type": "markdown",
   "metadata": “\n”,
   "source": [
    "**d. Variable Category:**<br>\n",
    "* Categorical: kiểu số, kiểu chuỗi<br>\n",
    "* Continuous: kiểu int, kiểu float"
   ]
  },
  {
   "cell_type": "code",
   "execution_count": 26,
   "metadata": {
    "scrolled": true
   },
   "outputs": [
    {
     "name": "stdout",
     "output_type": "stream",
     "text": [
      "1 . X11             \t 2 : [1 0]\n",
      "2 . X12             \t 2 : [0 1]\n",
      "3 . X13             \t 2 : [0 1]\n",
      "4 . width           \t 4 : [12 13 11 10]\n",
      "5 . lane_sum        \t 4 : [8 4 6 2]\n"
     ]
    }
   ],
   "source": [
    "# Xem xét các biến phân loại kiểu chuỗi\n",
    "# Categorical\n",
    "i = 1\n",
    "for obj in objects:\n",
    "    print(i, '.', obj.ljust(15), '\\t', len(df[obj].unique()), \":\", df[obj].unique())\n",
    "    i += 1"
   ]
  },
  {
   "cell_type": "code",
   "execution_count": 28,
   "metadata": “\n”,
   "outputs": [
    {
     "name": "stdout",
     "output_type": "stream",
     "text": [
      "1 . duong_dai       \t 39 : [ 4.99 16.11  9.75  1.65 20.01  5.97  8.57  5.24 15.79  8.26  7.03 13.28\n",
      "  5.4   2.96 11.75  8.86  9.78  5.49  8.63 20.31 40.09 11.81 11.39 22.\n",
      "  3.58  3.23  7.73 14.41 11.54 11.1  22.09  9.39 19.49 21.01 27.16 14.03\n",
      " 20.63 20.06 12.91]\n",
      "2 . luong_xe        \t 28 : [69 73 49 61 28 30 46 25 43 23 20 18 21 27 22 19  9 12 15  8  5 13  7 10\n",
      "  4  2  3  1]\n",
      "3 . xe_tai          \t 10 : [ 8 10 13 12  6  9  7 14 11 15]\n",
      "4 . max_speed       \t 7 : [55 60 65 70 50 40 45]\n",
      "5 . width_sos       \t 9 : [10  8  4  5  2  6  7  3  1]\n",
      "6 . lane1           \t 25 : [1.2  1.43 1.54 0.94 0.65 0.34 0.47 0.38 0.95 0.12 0.29 0.15 0.   0.26\n",
      " 0.68 0.2  0.18 0.14 0.05 0.56 0.31 0.13 0.09 0.04 0.07]\n",
      "7 . lane2           \t 20 : [0.   1.84 0.7  0.38 1.39 1.21 1.85 0.56 0.6  0.1  0.18 0.99 0.12 0.09\n",
      " 2.51 0.93 0.52 0.07 0.14 0.04]\n",
      "8 . entry_route     \t 36 : [ 4.6  4.4  4.7  3.8  2.2 24.8 11.  18.5  7.5  8.2  5.4 11.2 15.2  7.9\n",
      "  3.2  8.9 12.4  7.8  9.6  4.3 11.1  6.8 53.  17.3 27.3 18.  30.2 10.3\n",
      " 18.2 12.3  7.1 14.  11.3 16.3  9.  10.4]\n",
      "9 . y               \t 37 : [4.58 2.86 3.02 2.29 1.61 6.87 3.85 6.12 3.29 5.88 4.2  4.61 4.8  2.69\n",
      " 1.99 2.01 4.22 2.76 2.55 1.89 2.34 2.83 1.81 9.23 8.6  8.21 2.93 7.48\n",
      " 2.57 5.77 2.9  2.97 1.84 3.78 4.27 3.05 4.12]\n"
     ]
    }
   ],
   "source": [
    "# Categorical & Continuous:\n",
    "i = 1\n",
    "for obj in numbers:\n",
    "    print(i, '.', obj.ljust(15), '\\t', len(df[obj].unique()), \":\", df[obj].unique() if len(df[obj].unique()) < 150 else \"\")\n",
    "    i += 1"
   ]
  },
  {
   "cell_type": "code",
   "execution_count": 11,
   "metadata": “\n”,
   "outputs": [],
   "source": [
    "# drop các cột không cần thiết:\n",
    "# lst = ['vendor_name', 'model_name']\n",
    "# df = df.drop(lst, axis = 1)\n",
    "# df.head()"
   ]
  },
  {
   "cell_type": "markdown",
   "metadata": “\n”,
   "source": [
    "## 2. Phân tích đơn biến Univariate Analysis"
   ]
  },
  {
   "cell_type": "markdown",
   "metadata": “\n”,
   "source": [
    "### Continuous variable:\n"
   ]
  },
  {
   "cell_type": "code",
   "execution_count": 12,
   "metadata": “\n”,
   "outputs": [],
   "source": [
    "def cont_var(data):\n",
    "    # Provide info to continuous univariable\n",
    "\n",
    "    # Basic statistical info:\n",
    "    print('\\n============================= Variable %s: ==============================' %data.name)\n",
    "    print('Central Tendency:')\n",
    "    print(data.describe())\n",
    "    print('Mean:', data.mean())\n",
    "    print('Mode:', data.mode()[0])\n",
    "    print('Median:', data.median())\n",
    "    print('\\nMeasure of dispersion:')\n",
    "    print('Range:', np.ptp(data)) # range = max-min\n",
    "    quartile = np.array([0.25,0.50,0.75]) # seperate data by 3 points\n",
    "    lst = []\n",
    "    for i in quartile:\n",
    "        lst.append(data.quantile(i).tolist())\n",
    "    print('Quartile Q1, Q2, Q3:', lst)\n",
    "    print('IQR = Q3 - Q1 = ',stats.iqr(data))\n",
    "    print('Variance: %.2f' %np.var(data))   \n",
    "    print('Standard Deviation: %.2f' %np.std(data))\n",
    "    print('Skewness: %.2f' %stats.skew(data))  \n",
    "    print('Kurtosis: %.2f' %stats.kurtosis(data))\n",
    "    \n",
    "        \n",
    "    # Visualizing continuous data  \n",
    "    plt.figure(figsize=(14,6))\n",
    "    plt.subplot(1,3,1)\n",
    "    sns.distplot(data)\n",
    "    plt.subplot(1,3,2)\n",
    "    plt.hist(data)\n",
    "    plt.subplot(1,3,3)\n",
    "    plt.boxplot(data)\n",
    "    plt.show()\n"
   ]
  },
  {
   "cell_type": "code",
   "execution_count": 62,
   "metadata": {
    "scrolled": true
   },
   "outputs": [
    {
     "name": "stdout",
     "output_type": "stream",
     "text": [
      "\n",
      "============================= Variable duong_dai: ==============================\n",
      "Central Tendency:\n",
      "count    39.000000\n",
      "mean     12.653333\n",
      "std       7.812968\n",
      "min       1.650000\n",
      "25%       7.380000\n",
      "50%      11.390000\n",
      "75%      17.800000\n",
      "max      40.090000\n",
      "Name: duong_dai, dtype: float64\n",
      "Mean: 12.653333333333332\n",
      "Mode: 1.65\n",
      "Median: 11.39\n",
      "\n",
      "Measure of dispersion:\n",
      "Range: 38.440000000000005\n",
      "Quartile Q1, Q2, Q3: [7.380000000000001, 11.39, 17.799999999999997]\n",
      "IQR = Q3 - Q1 =  10.419999999999996\n",
      "Variance: 59.48\n",
      "Standard Deviation: 7.71\n",
      "Skewness: 1.21\n",
      "Kurtosis: 2.09\n"
     ]
    },
    {
     "data": {
      "text/plain": [
       "<Figure size 1008x432 with 3 Axes>"
      ]
     },
     "metadata": {
      "needs_background": "light"
     },
     "output_type": "display_data"
    },
    {
     "name": "stdout",
     "output_type": "stream",
     "text": [
      "\n",
      "============================= Variable xe_tai: ==============================\n",
      "Central Tendency:\n",
      "count    39.000000\n",
      "mean      9.333333\n",
      "std       2.354540\n",
      "min       6.000000\n",
      "25%       8.000000\n",
      "50%       9.000000\n",
      "75%      11.000000\n",
      "max      15.000000\n",
      "Name: xe_tai, dtype: float64\n",
      "Mean: 9.333333333333334\n",
      "Mode: 8\n",
      "Median: 9.0\n",
      "\n",
      "Measure of dispersion:\n",
      "Range: 9\n",
      "Quartile Q1, Q2, Q3: [8.0, 9.0, 11.0]\n",
      "IQR = Q3 - Q1 =  3.0\n",
      "Variance: 5.40\n",
      "Standard Deviation: 2.32\n",
      "Skewness: 0.57\n",
      "Kurtosis: -0.48\n"
     ]
    },
    {
     "data": {
      "text/plain": [
       "<Figure size 1008x432 with 3 Axes>"
      ]
     },
     "metadata": {
      "needs_background": "light"
     },
     "output_type": "display_data"
    },
    {
     "name": "stdout",
     "output_type": "stream",
     "text": [
      "\n",
      "============================= Variable max_speed: ==============================\n",
      "Central Tendency:\n",
      "count    39.000000\n",
      "mean     55.000000\n",
      "std       5.848977\n",
      "min      40.000000\n",
      "25%      50.000000\n",
      "50%      55.000000\n",
      "75%      60.000000\n",
      "max      70.000000\n",
      "Name: max_speed, dtype: float64\n",
      "Mean: 55.0\n",
      "Mode: 55\n",
      "Median: 55.0\n",
      "\n",
      "Measure of dispersion:\n",
      "Range: 30\n",
      "Quartile Q1, Q2, Q3: [50.0, 55.0, 60.0]\n",
      "IQR = Q3 - Q1 =  10.0\n",
      "Variance: 33.33\n",
      "Standard Deviation: 5.77\n",
      "Skewness: -0.20\n",
      "Kurtosis: 0.52\n"
     ]
    },
    {
     "data": {
      "text/plain": [
       "<Figure size 1008x432 with 3 Axes>"
      ]
     },
     "metadata": {
      "needs_background": "light"
     },
     "output_type": "display_data"
    },
    {
     "name": "stdout",
     "output_type": "stream",
     "text": [
      "\n",
      "============================= Variable lane2: ==============================\n",
      "Central Tendency:\n",
      "count    39.000000\n",
      "mean      0.400513\n",
      "std       0.633391\n",
      "min       0.000000\n",
      "25%       0.000000\n",
      "50%       0.090000\n",
      "75%       0.580000\n",
      "max       2.510000\n",
      "Name: lane2, dtype: float64\n",
      "Mean: 0.4005128205128205\n",
      "Mode: 0.0\n",
      "Median: 0.09\n",
      "\n",
      "Measure of dispersion:\n",
      "Range: 2.51\n",
      "Quartile Q1, Q2, Q3: [0.0, 0.09, 0.5800000000000001]\n",
      "IQR = Q3 - Q1 =  0.5800000000000001\n",
      "Variance: 0.39\n",
      "Standard Deviation: 0.63\n",
      "Skewness: 1.73\n",
      "Kurtosis: 2.21\n"
     ]
    },
    {
     "data": {
      "text/plain": [
       "<Figure size 1008x432 with 3 Axes>"
      ]
     },
     "metadata": {
      "needs_background": "light"
     },
     "output_type": "display_data"
    },
    {
     "name": "stdout",
     "output_type": "stream",
     "text": [
      "\n",
      "============================= Variable entry_route: ==============================\n",
      "Central Tendency:\n",
      "count    39.000000\n",
      "mean     12.158974\n",
      "std       9.318338\n",
      "min       2.200000\n",
      "25%       6.950000\n",
      "50%      10.300000\n",
      "75%      14.600000\n",
      "max      53.000000\n",
      "Name: entry_route, dtype: float64\n",
      "Mean: 12.15897435897436\n",
      "Mode: 5.4\n",
      "Median: 10.3\n",
      "\n",
      "Measure of dispersion:\n",
      "Range: 50.8\n",
      "Quartile Q1, Q2, Q3: [6.949999999999999, 10.3, 14.6]\n",
      "IQR = Q3 - Q1 =  7.65\n",
      "Variance: 84.60\n",
      "Standard Deviation: 9.20\n",
      "Skewness: 2.47\n",
      "Kurtosis: 7.80\n"
     ]
    },
    {
     "data": {
      "text/plain": [
       "<Figure size 1008x432 with 3 Axes>"
      ]
     },
     "metadata": {
      "needs_background": "light"
     },
     "output_type": "display_data"
    },
    {
     "name": "stdout",
     "output_type": "stream",
     "text": [
      "\n",
      "============================= Variable X11: ==============================\n",
      "Central Tendency:\n",
      "count    39.000000\n",
      "mean      0.128205\n",
      "std       0.338688\n",
      "min       0.000000\n",
      "25%       0.000000\n",
      "50%       0.000000\n",
      "75%       0.000000\n",
      "max       1.000000\n",
      "Name: X11, dtype: float64\n",
      "Mean: 0.1282051282051282\n",
      "Mode: 0\n",
      "Median: 0.0\n",
      "\n",
      "Measure of dispersion:\n",
      "Range: 1\n",
      "Quartile Q1, Q2, Q3: [0.0, 0.0, 0.0]\n",
      "IQR = Q3 - Q1 =  0.0\n",
      "Variance: 0.11\n",
      "Standard Deviation: 0.33\n",
      "Skewness: 2.22\n",
      "Kurtosis: 2.95\n"
     ]
    },
    {
     "name": "stderr",
     "output_type": "stream",
     "text": [
      "  warnings.warn(msg, UserWarning)\n"
     ]
    },
    {
     "data": {
      "text/plain": [
       "<Figure size 1008x432 with 3 Axes>"
      ]
     },
     "metadata": {
      "needs_background": "light"
     },
     "output_type": "display_data"
    },
    {
     "name": "stdout",
     "output_type": "stream",
     "text": [
      "\n",
      "============================= Variable X13: ==============================\n",
      "Central Tendency:\n",
      "count    39.000000\n",
      "mean      0.333333\n",
      "std       0.477567\n",
      "min       0.000000\n",
      "25%       0.000000\n",
      "50%       0.000000\n",
      "75%       1.000000\n",
      "max       1.000000\n",
      "Name: X13, dtype: float64\n",
      "Mean: 0.3333333333333333\n",
      "Mode: 0\n",
      "Median: 0.0\n",
      "\n",
      "Measure of dispersion:\n",
      "Range: 1\n",
      "Quartile Q1, Q2, Q3: [0.0, 0.0, 1.0]\n",
      "IQR = Q3 - Q1 =  1.0\n",
      "Variance: 0.22\n",
      "Standard Deviation: 0.47\n",
      "Skewness: 0.71\n",
      "Kurtosis: -1.50\n"
     ]
    },
    {
     "data": {
      "text/plain": [
       "<Figure size 1008x432 with 3 Axes>"
      ]
     },
     "metadata": {
      "needs_background": "light"
     },
     "output_type": "display_data"
    }
   ],
   "source": [
    "lst = ['luong_xe', 'width','width_sos', 'lane1', 'lane_sum', 'X12','y']\n",
    "var = df.drop(lst, axis=1)\n",
    "for i in var.columns:\n",
    "    cont_var(df[i])"
   ]
  },
  {
   "cell_type": "markdown",
   "metadata": “\n”,
   "source": [
    "## 3. Phân tích hai biến\n",
    "#### Continuous & Continuous: "
   ]
  },
  {
   "cell_type": "code",
   "execution_count": 30,
   "metadata": “\n”,
   "outputs": [
    {
     "data": {
      "text/plain": [
       "<seaborn.axisgrid.PairGrid at 0x26af45aa208>"
      ]
     },
     "execution_count": 30,
     "metadata": “\n”,
     "output_type": "execute_result"
    },
    {
     "data": {
      "text/plain": [
       "<Figure size 1620x1620 with 90 Axes>"
      ]
     },
     "metadata": {
      "needs_background": "light"
     },
     "output_type": "display_data"
    }
   ],
   "source": [
    "sns.pairplot(numbers)"
   ]
  },
  {
   "cell_type": "code",
   "execution_count": 41,
   "metadata": “\n”,
   "outputs": [
    {
     "data": {
      "text/plain": [
       "<seaborn.axisgrid.PairGrid at 0x26afde75438>"
      ]
     },
     "execution_count": 41,
     "metadata": “\n”,
     "output_type": "execute_result"
    },
    {
     "data": {
      "text/plain": [
       "<Figure size 1080x1080 with 42 Axes>"
      ]
     },
     "metadata": {
      "needs_background": "light"
     },
     "output_type": "display_data"
    }
   ],
   "source": [
    "objects = df.loc[:,['X11', 'X12', 'X13', 'width', 'lane_sum', 'y']]\n",
    "sns.pairplot(objects)"
   ]
  },
  {
   "cell_type": "code",
   "execution_count": 31,
   "metadata": “\n”,
   "outputs": [
    {
     "data": {
      "text/html": [
       "<div>\n",
       "<style scoped>\n",
       "    .dataframe tbody tr th:only-of-type {\n",
       "        vertical-align: middle;\n",
       "    }\n",
       "\n",
       "    .dataframe tbody tr th {\n",
       "        vertical-align: top;\n",
       "    }\n",
       "\n",
       "    .dataframe thead th {\n",
       "        text-align: right;\n",
       "    }\n",
       "</style>\n",
       "<table border=\"1\" class=\"dataframe\">\n",
       "  <thead>\n",
       "    <tr style=\"text-align: right;\">\n",
       "      <th></th>\n",
       "      <th>duong_dai</th>\n",
       "      <th>luong_xe</th>\n",
       "      <th>xe_tai</th>\n",
       "      <th>max_speed</th>\n",
       "      <th>width</th>\n",
       "      <th>width_sos</th>\n",
       "      <th>lane1</th>\n",
       "      <th>lane2</th>\n",
       "      <th>entry_route</th>\n",
       "      <th>lane_sum</th>\n",
       "      <th>X11</th>\n",
       "      <th>X12</th>\n",
       "      <th>X13</th>\n",
       "      <th>y</th>\n",
       "    </tr>\n",
       "  </thead>\n",
       "  <tbody>\n",
       "    <tr>\n",
       "      <th>duong_dai</th>\n",
       "      <td>1.000000</td>\n",
       "      <td>-0.331908</td>\n",
       "      <td>0.435832</td>\n",
       "      <td>0.129570</td>\n",
       "      <td>-0.305977</td>\n",
       "      <td>-0.133426</td>\n",
       "      <td>-0.216639</td>\n",
       "      <td>-0.294250</td>\n",
       "      <td>-0.205302</td>\n",
       "      <td>-0.261213</td>\n",
       "      <td>-0.106974</td>\n",
       "      <td>-0.118422</td>\n",
       "      <td>0.147382</td>\n",
       "      <td>-0.428100</td>\n",
       "    </tr>\n",
       "    <tr>\n",
       "      <th>luong_xe</th>\n",
       "      <td>-0.331908</td>\n",
       "      <td>1.000000</td>\n",
       "      <td>-0.096682</td>\n",
       "      <td>0.244157</td>\n",
       "      <td>0.127878</td>\n",
       "      <td>0.457307</td>\n",
       "      <td>0.880701</td>\n",
       "      <td>0.145475</td>\n",
       "      <td>-0.223980</td>\n",
       "      <td>0.823930</td>\n",
       "      <td>0.759477</td>\n",
       "      <td>0.028782</td>\n",
       "      <td>-0.464828</td>\n",
       "      <td>-0.028570</td>\n",
       "    </tr>\n",
       "    <tr>\n",
       "      <th>xe_tai</th>\n",
       "      <td>0.435832</td>\n",
       "      <td>-0.096682</td>\n",
       "      <td>1.000000</td>\n",
       "      <td>0.296184</td>\n",
       "      <td>-0.155271</td>\n",
       "      <td>0.006135</td>\n",
       "      <td>0.064920</td>\n",
       "      <td>-0.450259</td>\n",
       "      <td>-0.360266</td>\n",
       "      <td>-0.153324</td>\n",
       "      <td>0.142999</td>\n",
       "      <td>-0.051501</td>\n",
       "      <td>-0.101414</td>\n",
       "      <td>-0.512522</td>\n",
       "    </tr>\n",
       "    <tr>\n",
       "      <th>max_speed</th>\n",
       "      <td>0.129570</td>\n",
       "      <td>0.244157</td>\n",
       "      <td>0.296184</td>\n",
       "      <td>1.000000</td>\n",
       "      <td>0.098693</td>\n",
       "      <td>0.689009</td>\n",
       "      <td>0.341780</td>\n",
       "      <td>-0.410220</td>\n",
       "      <td>-0.681521</td>\n",
       "      <td>0.264520</td>\n",
       "      <td>0.464948</td>\n",
       "      <td>0.044426</td>\n",
       "      <td>-0.423950</td>\n",
       "      <td>-0.680984</td>\n",
       "    </tr>\n",
       "    <tr>\n",
       "      <th>width</th>\n",
       "      <td>-0.305977</td>\n",
       "      <td>0.127878</td>\n",
       "      <td>-0.155271</td>\n",
       "      <td>0.098693</td>\n",
       "      <td>1.000000</td>\n",
       "      <td>-0.042896</td>\n",
       "      <td>0.102307</td>\n",
       "      <td>0.042016</td>\n",
       "      <td>-0.042013</td>\n",
       "      <td>0.095723</td>\n",
       "      <td>0.043702</td>\n",
       "      <td>0.225073</td>\n",
       "      <td>-0.282038</td>\n",
       "      <td>-0.005619</td>\n",
       "    </tr>\n",
       "    <tr>\n",
       "      <th>width_sos</th>\n",
       "      <td>-0.133426</td>\n",
       "      <td>0.457307</td>\n",
       "      <td>0.006135</td>\n",
       "      <td>0.689009</td>\n",
       "      <td>-0.042896</td>\n",
       "      <td>1.000000</td>\n",
       "      <td>0.421215</td>\n",
       "      <td>-0.134058</td>\n",
       "      <td>-0.424951</td>\n",
       "      <td>0.481771</td>\n",
       "      <td>0.400236</td>\n",
       "      <td>0.366881</td>\n",
       "      <td>-0.623065</td>\n",
       "      <td>-0.386907</td>\n",
       "    </tr>\n",
       "    <tr>\n",
       "      <th>lane1</th>\n",
       "      <td>-0.216639</td>\n",
       "      <td>0.880701</td>\n",
       "      <td>0.064920</td>\n",
       "      <td>0.341780</td>\n",
       "      <td>0.102307</td>\n",
       "      <td>0.421215</td>\n",
       "      <td>1.000000</td>\n",
       "      <td>-0.016376</td>\n",
       "      <td>-0.316770</td>\n",
       "      <td>0.670932</td>\n",
       "      <td>0.807919</td>\n",
       "      <td>-0.062741</td>\n",
       "      <td>-0.427509</td>\n",
       "      <td>-0.160385</td>\n",
       "    </tr>\n",
       "    <tr>\n",
       "      <th>lane2</th>\n",
       "      <td>-0.294250</td>\n",
       "      <td>0.145475</td>\n",
       "      <td>-0.450259</td>\n",
       "      <td>-0.410220</td>\n",
       "      <td>0.042016</td>\n",
       "      <td>-0.134058</td>\n",
       "      <td>-0.016376</td>\n",
       "      <td>1.000000</td>\n",
       "      <td>0.498693</td>\n",
       "      <td>0.249686</td>\n",
       "      <td>-0.245658</td>\n",
       "      <td>0.296220</td>\n",
       "      <td>-0.070179</td>\n",
       "      <td>0.564480</td>\n",
       "    </tr>\n",
       "    <tr>\n",
       "      <th>entry_route</th>\n",
       "      <td>-0.205302</td>\n",
       "      <td>-0.223980</td>\n",
       "      <td>-0.360266</td>\n",
       "      <td>-0.681521</td>\n",
       "      <td>-0.042013</td>\n",
       "      <td>-0.424951</td>\n",
       "      <td>-0.316770</td>\n",
       "      <td>0.498693</td>\n",
       "      <td>1.000000</td>\n",
       "      <td>-0.208779</td>\n",
       "      <td>-0.342661</td>\n",
       "      <td>-0.227661</td>\n",
       "      <td>0.513488</td>\n",
       "      <td>0.752025</td>\n",
       "    </tr>\n",
       "    <tr>\n",
       "      <th>lane_sum</th>\n",
       "      <td>-0.261213</td>\n",
       "      <td>0.823930</td>\n",
       "      <td>-0.153324</td>\n",
       "      <td>0.264520</td>\n",
       "      <td>0.095723</td>\n",
       "      <td>0.481771</td>\n",
       "      <td>0.670932</td>\n",
       "      <td>0.249686</td>\n",
       "      <td>-0.208779</td>\n",
       "      <td>1.000000</td>\n",
       "      <td>0.591514</td>\n",
       "      <td>0.174316</td>\n",
       "      <td>-0.512952</td>\n",
       "      <td>-0.032979</td>\n",
       "    </tr>\n",
       "    <tr>\n",
       "      <th>X11</th>\n",
       "      <td>-0.106974</td>\n",
       "      <td>0.759477</td>\n",
       "      <td>0.142999</td>\n",
       "      <td>0.464948</td>\n",
       "      <td>0.043702</td>\n",
       "      <td>0.400236</td>\n",
       "      <td>0.807919</td>\n",
       "      <td>-0.245658</td>\n",
       "      <td>-0.342661</td>\n",
       "      <td>0.591514</td>\n",
       "      <td>1.000000</td>\n",
       "      <td>-0.373773</td>\n",
       "      <td>-0.271163</td>\n",
       "      <td>-0.207610</td>\n",
       "    </tr>\n",
       "    <tr>\n",
       "      <th>X12</th>\n",
       "      <td>-0.118422</td>\n",
       "      <td>0.028782</td>\n",
       "      <td>-0.051501</td>\n",
       "      <td>0.044426</td>\n",
       "      <td>0.225073</td>\n",
       "      <td>0.366881</td>\n",
       "      <td>-0.062741</td>\n",
       "      <td>0.296220</td>\n",
       "      <td>-0.227661</td>\n",
       "      <td>0.174316</td>\n",
       "      <td>-0.373773</td>\n",
       "      <td>1.000000</td>\n",
       "      <td>-0.689202</td>\n",
       "      <td>-0.161540</td>\n",
       "    </tr>\n",
       "    <tr>\n",
       "      <th>X13</th>\n",
       "      <td>0.147382</td>\n",
       "      <td>-0.464828</td>\n",
       "      <td>-0.101414</td>\n",
       "      <td>-0.423950</td>\n",
       "      <td>-0.282038</td>\n",
       "      <td>-0.623065</td>\n",
       "      <td>-0.427509</td>\n",
       "      <td>-0.070179</td>\n",
       "      <td>0.513488</td>\n",
       "      <td>-0.512952</td>\n",
       "      <td>-0.271163</td>\n",
       "      <td>-0.689202</td>\n",
       "      <td>1.000000</td>\n",
       "      <td>0.337848</td>\n",
       "    </tr>\n",
       "    <tr>\n",
       "      <th>y</th>\n",
       "      <td>-0.428100</td>\n",
       "      <td>-0.028570</td>\n",
       "      <td>-0.512522</td>\n",
       "      <td>-0.680984</td>\n",
       "      <td>-0.005619</td>\n",
       "      <td>-0.386907</td>\n",
       "      <td>-0.160385</td>\n",
       "      <td>0.564480</td>\n",
       "      <td>0.752025</td>\n",
       "      <td>-0.032979</td>\n",
       "      <td>-0.207610</td>\n",
       "      <td>-0.161540</td>\n",
       "      <td>0.337848</td>\n",
       "      <td>1.000000</td>\n",
       "    </tr>\n",
       "  </tbody>\n",
       "</table>\n",
       "</div>"
      ],
      "text/plain": [
       "             duong_dai  luong_xe    xe_tai  max_speed     width  width_sos  \\\n",
       "duong_dai     1.000000 -0.331908  0.435832   0.129570 -0.305977  -0.133426   \n",
       "luong_xe     -0.331908  1.000000 -0.096682   0.244157  0.127878   0.457307   \n",
       "xe_tai        0.435832 -0.096682  1.000000   0.296184 -0.155271   0.006135   \n",
       "max_speed     0.129570  0.244157  0.296184   1.000000  0.098693   0.689009   \n",
       "width        -0.305977  0.127878 -0.155271   0.098693  1.000000  -0.042896   \n",
       "width_sos    -0.133426  0.457307  0.006135   0.689009 -0.042896   1.000000   \n",
       "lane1        -0.216639  0.880701  0.064920   0.341780  0.102307   0.421215   \n",
       "lane2        -0.294250  0.145475 -0.450259  -0.410220  0.042016  -0.134058   \n",
       "entry_route  -0.205302 -0.223980 -0.360266  -0.681521 -0.042013  -0.424951   \n",
       "lane_sum     -0.261213  0.823930 -0.153324   0.264520  0.095723   0.481771   \n",
       "X11          -0.106974  0.759477  0.142999   0.464948  0.043702   0.400236   \n",
       "X12          -0.118422  0.028782 -0.051501   0.044426  0.225073   0.366881   \n",
       "X13           0.147382 -0.464828 -0.101414  -0.423950 -0.282038  -0.623065   \n",
       "y            -0.428100 -0.028570 -0.512522  -0.680984 -0.005619  -0.386907   \n",
       "\n",
       "                lane1     lane2  entry_route  lane_sum       X11       X12  \\\n",
       "duong_dai   -0.216639 -0.294250    -0.205302 -0.261213 -0.106974 -0.118422   \n",
       "luong_xe     0.880701  0.145475    -0.223980  0.823930  0.759477  0.028782   \n",
       "xe_tai       0.064920 -0.450259    -0.360266 -0.153324  0.142999 -0.051501   \n",
       "max_speed    0.341780 -0.410220    -0.681521  0.264520  0.464948  0.044426   \n",
       "width        0.102307  0.042016    -0.042013  0.095723  0.043702  0.225073   \n",
       "width_sos    0.421215 -0.134058    -0.424951  0.481771  0.400236  0.366881   \n",
       "lane1        1.000000 -0.016376    -0.316770  0.670932  0.807919 -0.062741   \n",
       "lane2       -0.016376  1.000000     0.498693  0.249686 -0.245658  0.296220   \n",
       "entry_route -0.316770  0.498693     1.000000 -0.208779 -0.342661 -0.227661   \n",
       "lane_sum     0.670932  0.249686    -0.208779  1.000000  0.591514  0.174316   \n",
       "X11          0.807919 -0.245658    -0.342661  0.591514  1.000000 -0.373773   \n",
       "X12         -0.062741  0.296220    -0.227661  0.174316 -0.373773  1.000000   \n",
       "X13         -0.427509 -0.070179     0.513488 -0.512952 -0.271163 -0.689202   \n",
       "y           -0.160385  0.564480     0.752025 -0.032979 -0.207610 -0.161540   \n",
       "\n",
       "                  X13         y  \n",
       "duong_dai    0.147382 -0.428100  \n",
       "luong_xe    -0.464828 -0.028570  \n",
       "xe_tai      -0.101414 -0.512522  \n",
       "max_speed   -0.423950 -0.680984  \n",
       "width       -0.282038 -0.005619  \n",
       "width_sos   -0.623065 -0.386907  \n",
       "lane1       -0.427509 -0.160385  \n",
       "lane2       -0.070179  0.564480  \n",
       "entry_route  0.513488  0.752025  \n",
       "lane_sum    -0.512952 -0.032979  \n",
       "X11         -0.271163 -0.207610  \n",
       "X12         -0.689202 -0.161540  \n",
       "X13          1.000000  0.337848  \n",
       "y            0.337848  1.000000  "
      ]
     },
     "execution_count": 31,
     "metadata": “\n”,
     "output_type": "execute_result"
    }
   ],
   "source": [
    "df.corr()"
   ]
  },
  {
   "cell_type": "code",
   "execution_count": 59,
   "metadata": “\n”,
   "outputs": [
    {
     "data": {
      "text/plain": [
       "<matplotlib.axes._subplots.AxesSubplot at 0x26affe8ce10>"
      ]
     },
     "execution_count": 59,
     "metadata": “\n”,
     "output_type": "execute_result"
    },
    {
     "data": {
      "text/plain": [
       "<Figure size 864x720 with 1 Axes>"
      ]
     },
     "metadata": {
      "needs_background": "light"
     },
     "output_type": "display_data"
    }
   ],
   "source": [
    "plt.figure(figsize=(12,10))\n",
    "sns.heatmap(df.corr(),cmap='viridis',annot=True,cbar=False)"
   ]
  },
  {
   "cell_type": "markdown",
   "metadata": “\n”,
   "source": [
    "## 4. Xử lý dữ liệu thiếu"
   ]
  },
  {
   "cell_type": "code",
   "execution_count": 32,
   "metadata": “\n”,
   "outputs": [
    {
     "data": {
      "text/plain": [
       "duong_dai      0\n",
       "luong_xe       0\n",
       "xe_tai         0\n",
       "max_speed      0\n",
       "width          0\n",
       "width_sos      0\n",
       "lane1          0\n",
       "lane2          0\n",
       "entry_route    0\n",
       "lane_sum       0\n",
       "X11            0\n",
       "X12            0\n",
       "X13            0\n",
       "y              0\n",
       "dtype: int64"
      ]
     },
     "execution_count": 32,
     "metadata": “\n”,
     "output_type": "execute_result"
    }
   ],
   "source": [
    "# Handle the Missing Values\n",
    "# Handle Outlier Values\n",
    "\n",
    "df.isnull().sum()"
   ]
  },
  {
   "cell_type": "markdown",
   "metadata": “\n”,
   "source": [
    "Nhận xét: Không có dữ liệu thiếu"
   ]
  },
  {
   "cell_type": "markdown",
   "metadata": “\n”,
   "source": [
    "## 5. Phát hiện và xử lý ngoại lệ"
   ]
  },
  {
   "cell_type": "code",
   "execution_count": 16,
   "metadata": “\n”,
   "outputs": [],
   "source": [
    "# Xử lý outliers:\n",
    "def xuly_0utlier (df, col):\n",
    "    ''' Tính toán số lượng upper/ lower outliers theo phương pháp IQR'''\n",
    "    Q1 = np.percentile(col, 25)\n",
    "    Q3 = np.percentile(col, 75)\n",
    "    IQR = stats.iqr(col)\n",
    "    \n",
    "    upper = df[col > (Q3 + 1.5* IQR)].shape[0]\n",
    "    lower = df[col < (Q1 - 1.5* IQR)].shape[0]\n",
    "    print('\\n============================= Variable %s: ==============================' %col.name)\n",
    "\n",
    "    print('Q1: ', Q1)\n",
    "    print('Q3: ', Q3)\n",
    "    print('IQR: ', IQR)\n",
    "    print('Số lượng upper outliers là:', upper)\n",
    "    print('Số lượng lower outliers là:', lower)\n",
    "    print('Phần trăm số lượng outliers so với tập là: %.3f' %((upper + lower)/df.shape[0]))\n",
    "    plt.boxplot(col)\n",
    "    plt.show()"
   ]
  },
  {
   "cell_type": "code",
   "execution_count": 63,
   "metadata": “\n”,
   "outputs": [],
   "source": [
    "# for i in df:\n",
    "#     xuly_0utlier(df, df[i])"
   ]
  },
  {
   "cell_type": "code",
   "execution_count": 35,
   "metadata": “\n”,
   "outputs": [],
   "source": [
    "from sklearn.metrics import mean_squared_error, r2_score\n",
    "from sklearn.linear_model import LinearRegression\n",
    "from sklearn.model_selection import train_test_split"
   ]
  },
  {
   "cell_type": "markdown",
   "metadata": “\n”,
   "source": [
    "## Linear Regression\n",
    "### Simple Linear Regression"
   ]
  },
  {
   "cell_type": "code",
   "execution_count": 70,
   "metadata": “\n”,
   "outputs": [
    {
     "data": {
      "text/plain": [
       "<Figure size 432x288 with 1 Axes>"
      ]
     },
     "metadata": {
      "needs_background": "light"
     },
     "output_type": "display_data"
    }
   ],
   "source": [
    "sns.regplot(data= df, x='entry_route', y='y')\n",
    "plt.show()"
   ]
  },
  {
   "cell_type": "code",
   "execution_count": 71,
   "metadata": “\n”,
   "outputs": [
    {
     "data": {
      "text/plain": [
       "0.5797945178390583"
      ]
     },
     "execution_count": 71,
     "metadata": “\n”,
     "output_type": "execute_result"
    }
   ],
   "source": [
    "X_train, X_test, y_train, y_test = train_test_split(inputs, outputs, test_size = 0.2, random_state = 42)\n",
    "regr1 = LinearRegression()\n",
    "regr1 = regr1.fit(X_train, y_train)\n",
    "regr1.score(X_train, y_train)"
   ]
  },
  {
   "cell_type": "code",
   "execution_count": 72,
   "metadata": “\n”,
   "outputs": [
    {
     "data": {
      "text/plain": [
       "0.5091134919889662"
      ]
     },
     "execution_count": 72,
     "metadata": “\n”,
     "output_type": "execute_result"
    }
   ],
   "source": [
    "regr1.score(X_test, y_test)"
   ]
  },
  {
   "cell_type": "markdown",
   "metadata": “\n”,
   "source": [
    "### Multiple Linear Regression"
   ]
  },
  {
   "cell_type": "code",
   "execution_count": 87,
   "metadata": “\n”,
   "outputs": [
    {
     "data": {
      "text/plain": [
       "<Figure size 576x576 with 1 Axes>"
      ]
     },
     "metadata": {
      "needs_background": "light"
     },
     "output_type": "display_data"
    }
   ],
   "source": [
    "lst = ['luong_xe', 'width','width_sos', 'lane1', 'lane2', 'lane_sum','X11','X12', 'X13','y']\n",
    "# X predictors: X1=duong_dai, X2=xe_tai, X4=max_speed, X9=entry_route\n",
    "X1 = df.drop(lst, axis=1)\n",
    "Y1 = df['y']\n",
    "X1_train, X1_test, y1_train, y1_test = train_test_split(X1, Y1, test_size = 0.2, random_state = 42)\n",
    "\n",
    "lm1 = LinearRegression()\n",
    "lm1.fit(X1_train, y1_train)\n",
    "yhat1 = lm1.predict(X1_train)\n",
    "\n",
    "plt.figure(figsize=(8,8))\n",
    "ax1 = sns.distplot(y1_train, hist=False, color=\"r\", label=\"Actual Value\")\n",
    "sns.distplot(yhat1, hist=False, color=\"b\", label=\"Fitted Values\" , ax=ax1)\n",
    "\n",
    "plt.title('Actual vs Fitted Values ')\n",
    "# plt.xlabel('')\n",
    "# plt.ylabel('')\n",
    "\n",
    "plt.show()\n",
    "plt.close()"
   ]
  },
  {
   "cell_type": "code",
   "execution_count": 88,
   "metadata": “\n”,
   "outputs": [
    {
     "name": "stdout",
     "output_type": "stream",
     "text": [
      "The train set R-square is:  0.7563362393087818\n",
      "The test set R-square is:  0.5399762162054962\n"
     ]
    }
   ],
   "source": [
    "# Find the R^2\n",
    "print('The train set R-square is: ', lm1.score(X1_train, y1_train))\n",
    "print('The test set R-square is: ', lm1.score(X1_test, y1_test))"
   ]
  },
  {
   "cell_type": "code",
   "execution_count": null,
   "metadata": “\n”,
   "outputs": [],
   "source": []
  }
 ],
 "metadata": {
  "kernelspec": {
   "display_name": "Python 3",
   "language": "python",
   "name": "python3"
  },
  "language_info": {
   "codemirror_mode": {
    "name": "ipython",
    "version": 3
   },
   "file_extension": ".py",
   "mimetype": "text/x-python",
   "name": "python",
   "nbconvert_exporter": "python",
   "pygments_lexer": "ipython3",
   "version": "3.6.5"
  }
 },
 "nbformat": 4,
 "nbformat_minor": 2
}
